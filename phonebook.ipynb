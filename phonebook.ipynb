{
 "cells": [
  {
   "cell_type": "code",
   "execution_count": null,
   "id": "3450886f-a7d4-410a-88dc-f8ae6c06de97",
   "metadata": {},
   "outputs": [
    {
     "name": "stdout",
     "output_type": "stream",
     "text": [
      "\n",
      "Phonebook Menu:\n",
      "1. Add a new contact\n",
      "2. Search for a contact\n",
      "3. Delete a contact\n",
      "4. List all contacts\n",
      "5. Exit\n"
     ]
    },
    {
     "name": "stdin",
     "output_type": "stream",
     "text": [
      "Enter your choice:  1\n",
      "Enter the contact's name:  aRNAB DEY\n",
      "Enter the contact's phone number:  65864513\n"
     ]
    },
    {
     "name": "stdout",
     "output_type": "stream",
     "text": [
      "Contact added successfully.\n",
      "\n",
      "Phonebook Menu:\n",
      "1. Add a new contact\n",
      "2. Search for a contact\n",
      "3. Delete a contact\n",
      "4. List all contacts\n",
      "5. Exit\n"
     ]
    },
    {
     "name": "stdin",
     "output_type": "stream",
     "text": [
      "Enter your choice:  2\n",
      "Enter the contact's name:  ARNAB DEY\n"
     ]
    },
    {
     "name": "stdout",
     "output_type": "stream",
     "text": [
      "Contact not found.\n",
      "\n",
      "Phonebook Menu:\n",
      "1. Add a new contact\n",
      "2. Search for a contact\n",
      "3. Delete a contact\n",
      "4. List all contacts\n",
      "5. Exit\n"
     ]
    }
   ],
   "source": [
    "# phonebook.py\n",
    "\n",
    "# Initialize the phonebook as an empty dictionary\n",
    "phonebook = {}\n",
    "\n",
    "def add_contact():\n",
    "    \"\"\"Add a new contact to the phonebook\"\"\"\n",
    "    name = input(\"Enter the contact's name: \")\n",
    "    phone_number = input(\"Enter the contact's phone number: \")\n",
    "\n",
    "    if name in phonebook:\n",
    "        print(\"Contact already exists. Please try again.\")\n",
    "    else:\n",
    "        phonebook[name] = phone_number\n",
    "        print(\"Contact added successfully.\")\n",
    "\n",
    "def search_contact():\n",
    "    \"\"\"Search for a contact in the phonebook\"\"\"\n",
    "    name = input(\"Enter the contact's name: \")\n",
    "\n",
    "    if name in phonebook:\n",
    "        print(f\"Phone number: {phonebook[name]}\")\n",
    "    else:\n",
    "        print(\"Contact not found.\")\n",
    "\n",
    "def delete_contact():\n",
    "    \"\"\"Delete a contact from the phonebook\"\"\"\n",
    "    name = input(\"Enter the contact's name: \")\n",
    "\n",
    "    if name in phonebook:\n",
    "        del phonebook[name]\n",
    "        print(\"Contact deleted successfully.\")\n",
    "    else:\n",
    "        print(\"Contact not found.\")\n",
    "\n",
    "def list_contacts():\n",
    "    \"\"\"List all contacts in the phonebook\"\"\"\n",
    "    if not phonebook:\n",
    "        print(\"Phonebook is empty.\")\n",
    "    else:\n",
    "        for name, phone_number in phonebook.items():\n",
    "            print(f\"Name: {name}, Phone number: {phone_number}\")\n",
    "\n",
    "def main():\n",
    "    while True:\n",
    "        print(\"\\nPhonebook Menu:\")\n",
    "        print(\"1. Add a new contact\")\n",
    "        print(\"2. Search for a contact\")\n",
    "        print(\"3. Delete a contact\")\n",
    "        print(\"4. List all contacts\")\n",
    "        print(\"5. Exit\")\n",
    "\n",
    "        choice = input(\"Enter your choice: \")\n",
    "\n",
    "        if choice == \"1\":\n",
    "            add_contact()\n",
    "        elif choice == \"2\":\n",
    "            search_contact()\n",
    "        elif choice == \"3\":\n",
    "            delete_contact()\n",
    "        elif choice == \"4\":\n",
    "            list_contacts()\n",
    "        elif choice == \"5\":\n",
    "            print(\"Exiting the phonebook application.\")\n",
    "            break\n",
    "        else:\n",
    "            print(\"Invalid choice. Please try again.\")\n",
    "\n",
    "if __name__ == \"__main__\":\n",
    "    main()"
   ]
  },
  {
   "cell_type": "code",
   "execution_count": null,
   "id": "1e736c8a-8c5a-4a94-a236-c0af00900aa5",
   "metadata": {},
   "outputs": [],
   "source": []
  }
 ],
 "metadata": {
  "kernelspec": {
   "display_name": "Python 3 (ipykernel)",
   "language": "python",
   "name": "python3"
  },
  "language_info": {
   "codemirror_mode": {
    "name": "ipython",
    "version": 3
   },
   "file_extension": ".py",
   "mimetype": "text/x-python",
   "name": "python",
   "nbconvert_exporter": "python",
   "pygments_lexer": "ipython3",
   "version": "3.11.7"
  }
 },
 "nbformat": 4,
 "nbformat_minor": 5
}
